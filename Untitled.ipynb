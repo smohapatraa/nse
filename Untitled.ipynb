{
 "cells": [
  {
   "cell_type": "code",
   "execution_count": 1,
   "metadata": {},
   "outputs": [],
   "source": [
    "import requests\n",
    "from bs4 import BeautifulSoup"
   ]
  },
  {
   "cell_type": "code",
   "execution_count": 2,
   "metadata": {},
   "outputs": [],
   "source": [
    "url =\"https://codewithharry.com\""
   ]
  },
  {
   "cell_type": "code",
   "execution_count": 3,
   "metadata": {},
   "outputs": [],
   "source": [
    "r = requests.get(url)"
   ]
  },
  {
   "cell_type": "code",
   "execution_count": 4,
   "metadata": {},
   "outputs": [],
   "source": [
    "htmlContent = r.content"
   ]
  },
  {
   "cell_type": "code",
   "execution_count": 7,
   "metadata": {},
   "outputs": [],
   "source": [
    "soup =BeautifulSoup(htmlContent, 'html.parser')"
   ]
  },
  {
   "cell_type": "code",
   "execution_count": 12,
   "metadata": {},
   "outputs": [
    {
     "name": "stdout",
     "output_type": "stream",
     "text": [
      "<bound method Tag.prettify of <!DOCTYPE html>\n",
      "<html lang=\"en\"><head>\n",
      "<meta charset=\"utf-8\"/>\n",
      "<title>Home - CodeWithHarry</title>\n",
      "<base href=\"/\"/>\n",
      "<meta content=\"width=device-width, initial-scale=1\" name=\"viewport\"/>\n",
      "<link href=\"favicon.ico\" rel=\"icon\" type=\"image/x-icon\"/>\n",
      "<link href=\"https://fonts.gstatic.com\" rel=\"preconnect\"/>\n",
      "<style type=\"text/css\">@font-face{font-family:'Roboto';font-style:normal;font-weight:300;font-display:swap;src:url(https://fonts.gstatic.com/s/roboto/v27/KFOlCnqEu92Fr1MmSU5fCRc4AMP6lbBP.woff2) format('woff2');unicode-range:U+0460-052F, U+1C80-1C88, U+20B4, U+2DE0-2DFF, U+A640-A69F, U+FE2E-FE2F;}@font-face{font-family:'Roboto';font-style:normal;font-weight:300;font-display:swap;src:url(https://fonts.gstatic.com/s/roboto/v27/KFOlCnqEu92Fr1MmSU5fABc4AMP6lbBP.woff2) format('woff2');unicode-range:U+0400-045F, U+0490-0491, U+04B0-04B1, U+2116;}@font-face{font-family:'Roboto';font-style:normal;font-weight:300;font-display:swap;src:url(https://fonts.gstatic.com/s/roboto/v27/KFOlCnqEu92Fr1MmSU5fCBc4AMP6lbBP.woff2) format('woff2');unicode-range:U+1F00-1FFF;}@font-face{font-family:'Roboto';font-style:normal;font-weight:300;font-display:swap;src:url(https://fonts.gstatic.com/s/roboto/v27/KFOlCnqEu92Fr1MmSU5fBxc4AMP6lbBP.woff2) format('woff2');unicode-range:U+0370-03FF;}@font-face{font-family:'Roboto';font-style:normal;font-weight:300;font-display:swap;src:url(https://fonts.gstatic.com/s/roboto/v27/KFOlCnqEu92Fr1MmSU5fCxc4AMP6lbBP.woff2) format('woff2');unicode-range:U+0102-0103, U+0110-0111, U+0128-0129, U+0168-0169, U+01A0-01A1, U+01AF-01B0, U+1EA0-1EF9, U+20AB;}@font-face{font-family:'Roboto';font-style:normal;font-weight:300;font-display:swap;src:url(https://fonts.gstatic.com/s/roboto/v27/KFOlCnqEu92Fr1MmSU5fChc4AMP6lbBP.woff2) format('woff2');unicode-range:U+0100-024F, U+0259, U+1E00-1EFF, U+2020, U+20A0-20AB, U+20AD-20CF, U+2113, U+2C60-2C7F, U+A720-A7FF;}@font-face{font-family:'Roboto';font-style:normal;font-weight:300;font-display:swap;src:url(https://fonts.gstatic.com/s/roboto/v27/KFOlCnqEu92Fr1MmSU5fBBc4AMP6lQ.woff2) format('woff2');unicode-range:U+0000-00FF, U+0131, U+0152-0153, U+02BB-02BC, U+02C6, U+02DA, U+02DC, U+2000-206F, U+2074, U+20AC, U+2122, U+2191, U+2193, U+2212, U+2215, U+FEFF, U+FFFD;}@font-face{font-family:'Roboto';font-style:normal;font-weight:400;font-display:swap;src:url(https://fonts.gstatic.com/s/roboto/v27/KFOmCnqEu92Fr1Mu72xKKTU1Kvnz.woff2) format('woff2');unicode-range:U+0460-052F, U+1C80-1C88, U+20B4, U+2DE0-2DFF, U+A640-A69F, U+FE2E-FE2F;}@font-face{font-family:'Roboto';font-style:normal;font-weight:400;font-display:swap;src:url(https://fonts.gstatic.com/s/roboto/v27/KFOmCnqEu92Fr1Mu5mxKKTU1Kvnz.woff2) format('woff2');unicode-range:U+0400-045F, U+0490-0491, U+04B0-04B1, U+2116;}@font-face{font-family:'Roboto';font-style:normal;font-weight:400;font-display:swap;src:url(https://fonts.gstatic.com/s/roboto/v27/KFOmCnqEu92Fr1Mu7mxKKTU1Kvnz.woff2) format('woff2');unicode-range:U+1F00-1FFF;}@font-face{font-family:'Roboto';font-style:normal;font-weight:400;font-display:swap;src:url(https://fonts.gstatic.com/s/roboto/v27/KFOmCnqEu92Fr1Mu4WxKKTU1Kvnz.woff2) format('woff2');unicode-range:U+0370-03FF;}@font-face{font-family:'Roboto';font-style:normal;font-weight:400;font-display:swap;src:url(https://fonts.gstatic.com/s/roboto/v27/KFOmCnqEu92Fr1Mu7WxKKTU1Kvnz.woff2) format('woff2');unicode-range:U+0102-0103, U+0110-0111, U+0128-0129, U+0168-0169, U+01A0-01A1, U+01AF-01B0, U+1EA0-1EF9, U+20AB;}@font-face{font-family:'Roboto';font-style:normal;font-weight:400;font-display:swap;src:url(https://fonts.gstatic.com/s/roboto/v27/KFOmCnqEu92Fr1Mu7GxKKTU1Kvnz.woff2) format('woff2');unicode-range:U+0100-024F, U+0259, U+1E00-1EFF, U+2020, U+20A0-20AB, U+20AD-20CF, U+2113, U+2C60-2C7F, U+A720-A7FF;}@font-face{font-family:'Roboto';font-style:normal;font-weight:400;font-display:swap;src:url(https://fonts.gstatic.com/s/roboto/v27/KFOmCnqEu92Fr1Mu4mxKKTU1Kg.woff2) format('woff2');unicode-range:U+0000-00FF, U+0131, U+0152-0153, U+02BB-02BC, U+02C6, U+02DA, U+02DC, U+2000-206F, U+2074, U+20AC, U+2122, U+2191, U+2193, U+2212, U+2215, U+FEFF, U+FFFD;}@font-face{font-family:'Roboto';font-style:normal;font-weight:500;font-display:swap;src:url(https://fonts.gstatic.com/s/roboto/v27/KFOlCnqEu92Fr1MmEU9fCRc4AMP6lbBP.woff2) format('woff2');unicode-range:U+0460-052F, U+1C80-1C88, U+20B4, U+2DE0-2DFF, U+A640-A69F, U+FE2E-FE2F;}@font-face{font-family:'Roboto';font-style:normal;font-weight:500;font-display:swap;src:url(https://fonts.gstatic.com/s/roboto/v27/KFOlCnqEu92Fr1MmEU9fABc4AMP6lbBP.woff2) format('woff2');unicode-range:U+0400-045F, U+0490-0491, U+04B0-04B1, U+2116;}@font-face{font-family:'Roboto';font-style:normal;font-weight:500;font-display:swap;src:url(https://fonts.gstatic.com/s/roboto/v27/KFOlCnqEu92Fr1MmEU9fCBc4AMP6lbBP.woff2) format('woff2');unicode-range:U+1F00-1FFF;}@font-face{font-family:'Roboto';font-style:normal;font-weight:500;font-display:swap;src:url(https://fonts.gstatic.com/s/roboto/v27/KFOlCnqEu92Fr1MmEU9fBxc4AMP6lbBP.woff2) format('woff2');unicode-range:U+0370-03FF;}@font-face{font-family:'Roboto';font-style:normal;font-weight:500;font-display:swap;src:url(https://fonts.gstatic.com/s/roboto/v27/KFOlCnqEu92Fr1MmEU9fCxc4AMP6lbBP.woff2) format('woff2');unicode-range:U+0102-0103, U+0110-0111, U+0128-0129, U+0168-0169, U+01A0-01A1, U+01AF-01B0, U+1EA0-1EF9, U+20AB;}@font-face{font-family:'Roboto';font-style:normal;font-weight:500;font-display:swap;src:url(https://fonts.gstatic.com/s/roboto/v27/KFOlCnqEu92Fr1MmEU9fChc4AMP6lbBP.woff2) format('woff2');unicode-range:U+0100-024F, U+0259, U+1E00-1EFF, U+2020, U+20A0-20AB, U+20AD-20CF, U+2113, U+2C60-2C7F, U+A720-A7FF;}@font-face{font-family:'Roboto';font-style:normal;font-weight:500;font-display:swap;src:url(https://fonts.gstatic.com/s/roboto/v27/KFOlCnqEu92Fr1MmEU9fBBc4AMP6lQ.woff2) format('woff2');unicode-range:U+0000-00FF, U+0131, U+0152-0153, U+02BB-02BC, U+02C6, U+02DA, U+02DC, U+2000-206F, U+2074, U+20AC, U+2122, U+2191, U+2193, U+2212, U+2215, U+FEFF, U+FFFD;}</style>\n",
      "<style type=\"text/css\">@font-face{font-family:'Material Icons';font-style:normal;font-weight:400;src:url(https://fonts.gstatic.com/s/materialicons/v85/flUhRq6tzZclQEJ-Vdg-IuiaDsNcIhQ8tQ.woff2) format('woff2');}.material-icons{font-family:'Material Icons';font-weight:normal;font-style:normal;font-size:24px;line-height:1;letter-spacing:normal;text-transform:none;display:inline-block;white-space:nowrap;word-wrap:normal;direction:ltr;-webkit-font-feature-settings:'liga';-webkit-font-smoothing:antialiased;}</style>\n",
      "<script async=\"\" data-ad-client=\"ca-pub-9655830461045889\" src=\"https://pagead2.googlesyndication.com/pagead/js/adsbygoogle.js\"></script>\n",
      "<!-- Global site tag (gtag.js) - Google Analytics -->\n",
      "<script async=\"\" src=\"https://www.googletagmanager.com/gtag/js?id=UA-60726752-3\"></script>\n",
      "<script>\n",
      "    window.dataLayer = window.dataLayer || [];\n",
      "    function gtag() { dataLayer.push(arguments); }\n",
      "    gtag('js', new Date());\n",
      "    gtag('config', 'UA-60726752-3');\n",
      "  </script>\n",
      "<link href=\"styles.3101d35c2a1ca2ad0eaf.css\" rel=\"stylesheet\"/><style ng-transition=\"serverApp\">.content[_ngcontent-sc61]{min-height:calc(100vh - 56px - 80px)}</style><style ng-transition=\"serverApp\">[_nghost-sc58]{position:relative;display:block;pointer-events:none}[_nghost-sc58]   .ngx-spinner[_ngcontent-sc58]{transition:350ms linear;display:block;position:absolute;top:5px;left:0}[_nghost-sc58]   .ngx-spinner[_ngcontent-sc58]   .ngx-spinner-icon[_ngcontent-sc58]{width:14px;height:14px;border:2px solid transparent;border-top-color:inherit;border-left-color:inherit;border-radius:50%;-webkit-animation:.4s linear infinite loading-bar-spinner;animation:.4s linear infinite loading-bar-spinner}[_nghost-sc58]   .ngx-bar[_ngcontent-sc58]{transition:width 350ms;position:absolute;top:0;left:0;width:100%;height:2px;border-bottom-right-radius:1px;border-top-right-radius:1px}[dir=rtl]   [_nghost-sc58]   .ngx-bar[_ngcontent-sc58]{right:0;left:unset}[fixed=true][_nghost-sc58]{z-index:10002}[fixed=true][_nghost-sc58]   .ngx-bar[_ngcontent-sc58]{position:fixed}[fixed=true][_nghost-sc58]   .ngx-spinner[_ngcontent-sc58]{position:fixed;top:10px;left:10px}[dir=rtl]   [fixed=true][_nghost-sc58]   .ngx-spinner[_ngcontent-sc58]{right:10px;left:unset}@-webkit-keyframes loading-bar-spinner{0%{transform:rotate(0)}100%{transform:rotate(360deg)}}@keyframes loading-bar-spinner{0%{transform:rotate(0)}100%{transform:rotate(360deg)}}</style><style ng-transition=\"serverApp\">.brandLogo[_ngcontent-sc59]{max-width:42px}li[_ngcontent-sc59]   a.nav-link[_ngcontent-sc59]{color:#fff}.notificationImg[_ngcontent-sc59]{width:30px;filter:invert(1)}.notification-bell[_ngcontent-sc59]{position:absolute;right:0}.dropdown-toggle[_ngcontent-sc59]{font-weight:700}.dropdown-menu-notify[_ngcontent-sc59]{overflow-y:scroll;overflow-x:hidden;max-height:400px;top:60px;right:-1px;left:unset;width:460px;box-shadow:0 5px 7px -1px #c1c1c1;padding:0}ul[_ngcontent-sc59]   ul[_ngcontent-sc59]   a[_ngcontent-sc59]{background:transparent}.dropdown-menu-notify[_ngcontent-sc59]:before{content:\"\";position:absolute;top:-20px;right:12px;border:10px solid transparent;border-bottom-color:#fff}.head-notify[_ngcontent-sc59]{padding:5px 15px;border-radius:3px 3px 0 0}.footer-notify[_ngcontent-sc59]{padding:5px 15px;border-radius:0 0 3px 3px}.notification-box-notify[_ngcontent-sc59]{padding:10px 0}.bg-gray-notify[_ngcontent-sc59]{background-color:#eee}@media (max-width:640px){.dropdown-menu-notify[_ngcontent-sc59]{top:50px;left:-16px;width:290px}.nav-notify[_ngcontent-sc59]{display:block}.nav-notify[_ngcontent-sc59]   .nav-item-notify[_ngcontent-sc59], .nav-notify[_ngcontent-sc59]   .nav-item-notify[_ngcontent-sc59]   a[_ngcontent-sc59]{padding-left:0}.message-notify[_ngcontent-sc59]{font-size:13px}}.loginError[_ngcontent-sc59]{color:red;padding:3px 2px}div.alert[_ngcontent-sc59]{margin:0}input.ng-touched.ng-invalid[_ngcontent-sc59], textarea.ng-touched.ng-invalid[_ngcontent-sc59]{border-color:red}.forgot[_ngcontent-sc59]{font-size:14px;color:#000;text-align:left;text-decoration:underline;cursor:pointer;padding:16px 0}.googleAuth[_ngcontent-sc59]{width:46%;cursor:pointer;border:1px solid #000;border-radius:3px;background:#60a3dd;margin-top:1px}.or[_ngcontent-sc59]{font-weight:500;font-size:19px}.modal-header[_ngcontent-sc59]{display:flex;align-items:center;justify-content:center;flex-direction:column}.modal-header[_ngcontent-sc59]   span[_ngcontent-sc59]{position:absolute;top:15px;right:20px}</style><style ng-transition=\"serverApp\">footer[_ngcontent-sc60]{color:#fff}</style><style ng-transition=\"serverApp\">.btn[_ngcontent-sc53]{margin:0 3px}</style><meta content=\"Code With Harry is my attempt to teach basics and those coding techniques to people in short time which took me ages to learn. At Code With Harry, I provide a quick and to the point demo along with resources of anything and everything I teach. Source code and other resources are hosted on my website CodeWithHarry.com. I provide source code(if any) in the description of every video.\" name=\"description\"/></head>\n",
      "<body>\n",
      "<app-root _nghost-sc61=\"\" ng-version=\"11.2.11\"><ngx-loading-bar _ngcontent-sc61=\"\" _nghost-sc58=\"\" fixed=\"true\" style=\"color:red;\"><!-- --></ngx-loading-bar><ngx-loading-bar _ngcontent-sc61=\"\" _nghost-sc58=\"\" fixed=\"true\" style=\"color:red;\"><!-- --></ngx-loading-bar><app-header _ngcontent-sc61=\"\" _nghost-sc59=\"\"><!-- --><nav _ngcontent-sc59=\"\" class=\"navbar navbar-expand-lg navbar-dark bg-dark\"><a _ngcontent-sc59=\"\" class=\"navbar-brand\" href=\"/\" routerlink=\"/\"><img _ngcontent-sc59=\"\" alt=\"CodeWithHarry\" class=\"brandLogo\" src=\"../../../assets/img/logo.png\"/></a><button _ngcontent-sc59=\"\" aria-controls=\"navbarSupportedContent\" aria-expanded=\"false\" aria-label=\"Toggle navigation\" class=\"navbar-toggler\" data-target=\"#navbarSupportedContent\" data-toggle=\"collapse\" type=\"button\"><span _ngcontent-sc59=\"\" class=\"navbar-toggler-icon\"></span></button><div _ngcontent-sc59=\"\" class=\"collapse navbar-collapse\" id=\"navbarSupportedContent\"><ul _ngcontent-sc59=\"\" class=\"navbar-nav mr-auto\"><li _ngcontent-sc59=\"\" class=\"nav-item font-weight-bold\"><a _ngcontent-sc59=\"\" class=\"nav-link\" href=\"/\" routerlink=\"/\">Home</a></li><li _ngcontent-sc59=\"\" class=\"nav-item font-weight-bold\"><a _ngcontent-sc59=\"\" class=\"nav-link\" href=\"/videos\" routerlink=\"/videos\">Videos</a></li><li _ngcontent-sc59=\"\" class=\"nav-item font-weight-bold\"><a _ngcontent-sc59=\"\" class=\"nav-link\" href=\"/blog\" routerlink=\"/blog\">Blog</a></li><li _ngcontent-sc59=\"\" class=\"nav-item font-weight-bold\"><a _ngcontent-sc59=\"\" class=\"nav-link\" href=\"/contact\" routerlink=\"/contact\">Contact Me</a></li></ul><form _ngcontent-sc59=\"\" class=\"form-inline my-2 my-lg-0 mr-3 ng-untouched ng-pristine ng-valid\" novalidate=\"\"><input _ngcontent-sc59=\"\" aria-label=\"Search\" class=\"form-control mr-sm-2 ng-untouched ng-pristine ng-valid\" name=\"query\" placeholder=\"Search\" type=\"text\" value=\"\"/><button _ngcontent-sc59=\"\" class=\"btn btn-danger my-2 my-sm-0\" type=\"submit\">Search</button></form><div _ngcontent-sc59=\"\" class=\"mx-0\"><button _ngcontent-sc59=\"\" class=\"btn btn-danger mr-2\" data-target=\"#loginModal\" data-toggle=\"modal\" type=\"button\">Login</button><button _ngcontent-sc59=\"\" class=\"btn btn-danger\" data-target=\"#signupModal\" data-toggle=\"modal\" type=\"button\">SignUp</button></div><!-- --><!-- --></div></nav><div _ngcontent-sc59=\"\" aria-hidden=\"true\" aria-labelledby=\"loginModal\" class=\"modal fade\" id=\"loginModal\" role=\"dialog\" tabindex=\"-1\"><div _ngcontent-sc59=\"\" class=\"modal-dialog\" role=\"document\"><div _ngcontent-sc59=\"\" class=\"modal-content\"><div _ngcontent-sc59=\"\" class=\"modal-header\"><img _ngcontent-sc59=\"\" alt=\"Login with Google\" class=\"googleAuth mx-2\" src=\"../../../assets/img/googleLogin.png\"/><div _ngcontent-sc59=\"\" class=\"or mx-3\"> or </div><h5 _ngcontent-sc59=\"\" class=\"modal-title\" id=\"loginModalTitle\">Login via username</h5><button _ngcontent-sc59=\"\" aria-label=\"Close\" class=\"close\" data-dismiss=\"modal\" type=\"button\"><span _ngcontent-sc59=\"\" aria-hidden=\"true\">×</span></button></div><div _ngcontent-sc59=\"\" class=\"modal-body\"><form _ngcontent-sc59=\"\" class=\"ng-untouched ng-pristine ng-invalid\" method=\"post\" novalidate=\"\"><div _ngcontent-sc59=\"\" class=\"form-group\"><label _ngcontent-sc59=\"\" for=\"username\">Username</label><input _ngcontent-sc59=\"\" class=\"form-control ng-untouched ng-pristine ng-invalid\" id=\"username\" maxlength=\"10\" minlength=\"2\" name=\"username\" pattern=\"[a-zA-Z0-9 ]*\" placeholder=\"Enter your username\" required=\"\" type=\"text\" value=\"\"/><!-- --></div><div _ngcontent-sc59=\"\" class=\"form-group\"><label _ngcontent-sc59=\"\" for=\"loginpassword\">Password</label><input _ngcontent-sc59=\"\" class=\"form-control ng-untouched ng-pristine ng-invalid\" id=\"loginpassword\" name=\"loginpassword\" placeholder=\"Enter your password\" required=\"\" type=\"password\" value=\"\"/></div><button _ngcontent-sc59=\"\" class=\"btn btn-danger mt-2\" disabled=\"\" id=\"loginsubmit\" type=\"submit\"><!-- --> Login</button></form><!-- --><!-- --><!-- --><div _ngcontent-sc59=\"\" class=\"forgot\"><span _ngcontent-sc59=\"\">Forgot Password?</span></div></div><div _ngcontent-sc59=\"\" class=\"modal-footer\"><button _ngcontent-sc59=\"\" class=\"btn btn-secondary\" data-dismiss=\"modal\" type=\"button\">Close</button></div></div></div></div><div _ngcontent-sc59=\"\" aria-hidden=\"true\" aria-labelledby=\"signupModal\" class=\"modal fade\" id=\"signupModal\" role=\"dialog\" tabindex=\"-1\"><div _ngcontent-sc59=\"\" class=\"modal-dialog\" role=\"document\"><div _ngcontent-sc59=\"\" class=\"modal-content\"><div _ngcontent-sc59=\"\" class=\"modal-header\"><img _ngcontent-sc59=\"\" alt=\"Signup with Google\" class=\"googleAuth mx-2\" src=\"../../../assets/img/googleSignUp.png\"/><div _ngcontent-sc59=\"\" class=\"or mx-3\"> or </div><h5 _ngcontent-sc59=\"\" class=\"modal-title\" id=\"signupModal\">SignUp for an account</h5><button _ngcontent-sc59=\"\" aria-label=\"Close\" class=\"close\" data-dismiss=\"modal\" type=\"button\"><span _ngcontent-sc59=\"\" aria-hidden=\"true\">×</span></button></div><div _ngcontent-sc59=\"\" class=\"modal-body\"><form _ngcontent-sc59=\"\" class=\"ng-untouched ng-pristine ng-invalid\" method=\"post\" novalidate=\"\"><div _ngcontent-sc59=\"\" class=\"form-group\"><label _ngcontent-sc59=\"\" for=\"uname\">Username</label><input _ngcontent-sc59=\"\" class=\"form-control ng-untouched ng-pristine ng-invalid\" id=\"signupUserName\" maxlength=\"10\" minlength=\"4\" name=\"signupUserName\" ngmodel=\"\" pattern=\"[a-zA-Z0-9_ ]*\" placeholder=\"Enter your username\" required=\"\" type=\"text\" value=\"\"/><!-- --><small _ngcontent-sc59=\"\" class=\"form-text text-muted px-1\" id=\"unamehelp\"> Your unique username must 4 - 10 characters (only lowecase letters, numbers &amp; underscores allowed) with no spaces </small></div><div _ngcontent-sc59=\"\" class=\"form-group\"><label _ngcontent-sc59=\"\" for=\"signupName\">Name</label><input _ngcontent-sc59=\"\" class=\"form-control ng-untouched ng-pristine ng-valid\" id=\"signupName\" maxlength=\"30\" name=\"signupName\" ngmodel=\"\" placeholder=\"Enter your Name\" type=\"text\" value=\"\"/></div><div _ngcontent-sc59=\"\" class=\"form-group\"><label _ngcontent-sc59=\"\" for=\"email\">Your Email</label><div _ngcontent-sc59=\"\" class=\"mx-0\"><div _ngcontent-sc59=\"\" class=\"col-md-8 px-0\"><input _ngcontent-sc59=\"\" class=\"form-control ng-untouched ng-pristine ng-invalid\" email=\"\" id=\"signupEmail\" maxlength=\"40\" name=\"signupEmail\" placeholder=\"Enter your Email\" required=\"\" type=\"email\" value=\"\"/><!-- --><!-- --></div><div _ngcontent-sc59=\"\" class=\"col-md-4 my-1 px-0\"><button _ngcontent-sc59=\"\" class=\"btn btn-danger btn-sm mt-2\" disabled=\"\" id=\"otpbtn\" type=\"button\"><!-- --> Send OTP</button></div></div></div><div _ngcontent-sc59=\"\" class=\"form-group\"><label _ngcontent-sc59=\"\" for=\"otp\">Enter OTP</label><input _ngcontent-sc59=\"\" class=\"form-control ng-untouched ng-pristine ng-invalid\" id=\"signupOTP\" name=\"signupOTP\" ngmodel=\"\" placeholder=\"Enter OTP\" required=\"\" type=\"number\" value=\"\"/></div><div _ngcontent-sc59=\"\" class=\"form-group\"><label _ngcontent-sc59=\"\" for=\"signupPassword1\">Choose a password (At least 4 characters)</label><input _ngcontent-sc59=\"\" class=\"form-control ng-untouched ng-pristine ng-valid\" id=\"signupPassword1\" maxlength=\"20\" minlength=\"4\" name=\"signupPassword1\" ngmodel=\"\" placeholder=\"Choose a password\" type=\"password\" value=\"\"/></div><div _ngcontent-sc59=\"\" class=\"form-group mb-0\"><label _ngcontent-sc59=\"\" for=\"signupPassword2\">Retype your password</label><input _ngcontent-sc59=\"\" class=\"form-control ng-untouched ng-pristine ng-valid\" id=\"signupPassword2\" maxlength=\"20\" minlength=\"4\" name=\"signupPassword2\" ngmodel=\"\" placeholder=\"Retype your password\" type=\"password\" value=\"\"/></div><!-- --><!-- --><!-- --><!-- --><button _ngcontent-sc59=\"\" class=\"btn btn-danger mt-4\" disabled=\"\" type=\"submit\"><!-- --> SignUp</button></form></div><div _ngcontent-sc59=\"\" class=\"modal-footer\"><button _ngcontent-sc59=\"\" class=\"btn btn-secondary\" data-dismiss=\"modal\" type=\"button\">Close</button></div></div></div></div></app-header><div _ngcontent-sc61=\"\" class=\"content\"><router-outlet _ngcontent-sc61=\"\"></router-outlet><app-homepage _nghost-sc53=\"\"><section _ngcontent-sc53=\"\" class=\"jumbotron text-center\"><div _ngcontent-sc53=\"\" class=\"container\"><img _ngcontent-sc53=\"\" alt=\"logo\" src=\"../../../assets/img/logo.png\" width=\"120\"/><h1 _ngcontent-sc53=\"\" class=\"jumbotron-heading\"><span _ngcontent-sc53=\"\" id=\"typed\"></span></h1><p _ngcontent-sc53=\"\" class=\"lead text-muted\">Confused on which course to take? I have got you covered. Browse courses and find out the best course for you. Its free!<br _ngcontent-sc53=\"\"/>Code With Harry is my attempt to teach basics and those coding techniques to people in short time which took me ages to learn.</p><p _ngcontent-sc53=\"\"><a _ngcontent-sc53=\"\" class=\"btn btn-danger my-2\" href=\"/blog\" routerlink=\"/blog\">Browse Blog</a><a _ngcontent-sc53=\"\" class=\"btn btn-success my-2\" href=\"/videos\" routerlink=\"/videos\">Browse Video Tutorials</a><a _ngcontent-sc53=\"\" class=\"btn btn-primary my-2\" href=\"/contact\" routerlink=\"/contact\">Contact Me</a></p></div></section><div _ngcontent-sc53=\"\" class=\"container\"><div _ngcontent-sc53=\"\" class=\"row\"><div _ngcontent-sc53=\"\" class=\"card mx-auto my-2 p-2 align-items-center\" style=\"width: 18rem;\"><img _ngcontent-sc53=\"\" alt=\"...\" class=\"padded card-img-top\" src=\"../../../assets/img/home-img-1.jpg\"/><div _ngcontent-sc53=\"\" class=\"card-body\"><h5 _ngcontent-sc53=\"\" class=\"card-title text-center\">Free Video Courses</h5><p _ngcontent-sc53=\"\" class=\"card-text text-center\">Get your programming career started with these free video courses. Source code is available with all the videos for amazing learning experience</p><a _ngcontent-sc53=\"\" class=\"btn btn-primary d-block\" href=\"/videos\" routerlink=\"/videos\">Browse Video Courses</a></div></div><div _ngcontent-sc53=\"\" class=\"card mx-auto my-2 p-2 align-items-center\" style=\"width: 18rem;\"><img _ngcontent-sc53=\"\" alt=\"...\" class=\"padded card-img-top\" src=\"../../../assets/img/home-img-2.jpg\"/><div _ngcontent-sc53=\"\" class=\"card-body\"><h5 _ngcontent-sc53=\"\" class=\"card-title text-center\">Coding Articles</h5><p _ngcontent-sc53=\"\" class=\"card-text text-center\">Some of the latest coding information compiled in the form of coding articles. Keep your programming knowledge up to date with these articles.</p><a _ngcontent-sc53=\"\" class=\"btn btn-primary d-block\" href=\"/blog\" routerlink=\"/blog\">Go to Blog</a></div></div><div _ngcontent-sc53=\"\" class=\"card mx-auto my-2 p-2 align-items-center\" style=\"width: 18rem;\"><img _ngcontent-sc53=\"\" alt=\"...\" class=\"padded card-img-top\" src=\"../../../assets/img/home-img-3.jpg\"/><div _ngcontent-sc53=\"\" class=\"card-body\"><h5 _ngcontent-sc53=\"\" class=\"card-title text-center\">Contact Me</h5><p _ngcontent-sc53=\"\" class=\"card-text text-center\">Learn programming from these free courses. Examples are available with these tutorials. You can contact me for any doubt and I will get back to you!</p><a _ngcontent-sc53=\"\" class=\"btn btn-primary d-block\" href=\"/contact\" routerlink=\"/contact\">Contact Me</a></div></div></div></div></app-homepage><!-- --></div><app-footer _ngcontent-sc61=\"\" _nghost-sc60=\"\"><footer _ngcontent-sc60=\"\" class=\"container-fluid bg-dark my-0 py-3 text-light\"><p _ngcontent-sc60=\"\" class=\"mb-0 text-center\">Copyright © 2020-2021 CodeWithHarry.com</p></footer></app-footer></app-root>\n",
      "<script defer=\"\" src=\"runtime.7b63b9fd40098a2e8207.js\"></script><script defer=\"\" src=\"polyfills.94daefd414b8355106ab.js\"></script><script defer=\"\" src=\"scripts.c4c155fcd63d2bd4d4c6.js\"></script><script defer=\"\" src=\"main.5d7d21a74ee5be6c6510.js\"></script>\n",
      "</body><!-- This page was prerendered with Angular Universal --></html>>\n"
     ]
    }
   ],
   "source": [
    "print(soup.prettify)"
   ]
  },
  {
   "cell_type": "code",
   "execution_count": 14,
   "metadata": {},
   "outputs": [],
   "source": [
    "title = soup.title"
   ]
  },
  {
   "cell_type": "code",
   "execution_count": 15,
   "metadata": {},
   "outputs": [
    {
     "data": {
      "text/plain": [
       "<title>Home - CodeWithHarry</title>"
      ]
     },
     "execution_count": 15,
     "metadata": {},
     "output_type": "execute_result"
    }
   ],
   "source": [
    "title"
   ]
  },
  {
   "cell_type": "code",
   "execution_count": 17,
   "metadata": {},
   "outputs": [
    {
     "data": {
      "text/plain": [
       "bs4.element.NavigableString"
      ]
     },
     "execution_count": 17,
     "metadata": {},
     "output_type": "execute_result"
    }
   ],
   "source": [
    "type(title.string)"
   ]
  },
  {
   "cell_type": "code",
   "execution_count": 18,
   "metadata": {},
   "outputs": [
    {
     "data": {
      "text/plain": [
       "bs4.element.Tag"
      ]
     },
     "execution_count": 18,
     "metadata": {},
     "output_type": "execute_result"
    }
   ],
   "source": [
    "type(title)"
   ]
  },
  {
   "cell_type": "code",
   "execution_count": null,
   "metadata": {},
   "outputs": [],
   "source": []
  }
 ],
 "metadata": {
  "kernelspec": {
   "display_name": "Python 3",
   "language": "python",
   "name": "python3"
  },
  "language_info": {
   "codemirror_mode": {
    "name": "ipython",
    "version": 3
   },
   "file_extension": ".py",
   "mimetype": "text/x-python",
   "name": "python",
   "nbconvert_exporter": "python",
   "pygments_lexer": "ipython3",
   "version": "3.7.4"
  }
 },
 "nbformat": 4,
 "nbformat_minor": 4
}
